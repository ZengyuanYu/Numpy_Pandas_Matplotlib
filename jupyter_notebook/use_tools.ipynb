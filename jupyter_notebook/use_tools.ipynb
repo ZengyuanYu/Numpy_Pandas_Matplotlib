{
 "cells": [
  {
   "cell_type": "markdown",
   "metadata": {},
   "source": [
    "## 工具使用教程"
   ]
  },
  {
   "cell_type": "markdown",
   "metadata": {},
   "source": [
    "### jupyter notebook的使用方法\n",
    "- 快捷键 \n",
    "    + 执行当前cell并跳转到下个cell **shift+enter**\n",
    "    + 执行当前cell **ctrl+enter**\n",
    "    + 为cell中添加行号 **esc** 退出编辑状态再输入 **l**\n",
    "- 将本地.py文件load到cell里面执行\n",
    "    + 在需要导入代码的cell里面输入**%load 文件名.py** 然后运行cell就会出现In[1]中的情形\n",
    "- 不load代码运行Python文件\n",
    "    + 在新的cell中输入**%run 文件名.py** 如In[2]\n",
    "    "
   ]
  },
  {
   "cell_type": "code",
   "execution_count": 1,
   "metadata": {},
   "outputs": [
    {
     "name": "stdout",
     "output_type": "stream",
     "text": [
      "3\n"
     ]
    }
   ],
   "source": [
    "# %load load_cell.py\n",
    "import torch\n",
    "a = 3\n",
    "print(a)"
   ]
  },
  {
   "cell_type": "code",
   "execution_count": 2,
   "metadata": {},
   "outputs": [
    {
     "name": "stdout",
     "output_type": "stream",
     "text": [
      "3\n"
     ]
    }
   ],
   "source": [
    "%run load_cell.py"
   ]
  },
  {
   "cell_type": "markdown",
   "metadata": {},
   "source": [
    "## MarkDown语法练习\n",
    "### 1. 标题\n",
    "- 一级标题 \n",
    "    # h1\n",
    "- 六级标题\n",
    "    ###### h6\n",
    "\n",
    "### 2. 分级标题\n",
    "- 一级标题\n",
    "    一级标题\n",
    "    ===============\n",
    "- 二级标题\n",
    "    二级标题\n",
    "    -------------------------------\n",
    "\n",
    "### 3.无序列表\n",
    "* 1\n",
    "* 2\n",
    "* 3\n",
    "+ 1 \n",
    "+ 2\n",
    "+ 3\n",
    "- 1 \n",
    "- 2\n",
    "- 3\n",
    "\n",
    "### 4.有序列表\n",
    "1. foooooo\n",
    "2. bar\n",
    "   1. sh\n",
    "   2. ch\n",
    "   4. wh\n",
    "   4. hhh\n",
    "\n",
    "### 5.区块引用\n",
    "- Talk is cheap, show me the code\n",
    "    > Linus Torvalds\n",
    "- 我是华丽的分割线\n",
    "-----\n",
    "\n",
    "### 6.链接\n",
    "- 行内式\n",
    "    + linux在[这里](www.baidu.com)可以查询到\n",
    "- 带链接的列表\n",
    "    + [google](http://www.google.com)\n",
    "    + [baidu](http://www.baidu.com)\n",
    "\n",
    "### 7.代码框\n",
    "- 单行少量代码用``\n",
    "    `import torch`\n",
    "- 多行代码用```\n",
    "    ```    \n",
    "    import torch\n",
    "    import torchvision\n",
    "    import numpy as np\n",
    "    ```"
   ]
  }
 ],
 "metadata": {
  "kernelspec": {
   "display_name": "Python 3",
   "language": "python",
   "name": "python3"
  },
  "language_info": {
   "codemirror_mode": {
    "name": "ipython",
    "version": 3
   },
   "file_extension": ".py",
   "mimetype": "text/x-python",
   "name": "python",
   "nbconvert_exporter": "python",
   "pygments_lexer": "ipython3",
   "version": "3.6.4"
  }
 },
 "nbformat": 4,
 "nbformat_minor": 2
}
