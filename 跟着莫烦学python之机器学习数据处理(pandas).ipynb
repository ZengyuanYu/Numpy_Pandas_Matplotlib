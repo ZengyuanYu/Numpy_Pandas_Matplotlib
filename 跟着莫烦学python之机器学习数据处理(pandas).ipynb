{
 "cells": [
  {
   "cell_type": "code",
   "execution_count": 6,
   "metadata": {},
   "outputs": [
    {
     "name": "stdout",
     "output_type": "stream",
     "text": [
      "0     1.0\n",
      "1     3.0\n",
      "2     4.0\n",
      "3     NaN\n",
      "4    44.0\n",
      "5     1.0\n",
      "dtype: float64\n",
      "DatetimeIndex(['2017-10-09', '2017-10-10', '2017-10-11', '2017-10-12',\n",
      "               '2017-10-13', '2017-10-14'],\n",
      "              dtype='datetime64[ns]', freq='D')\n",
      "                   a         b         c         d\n",
      "2017-10-09  0.827857  0.151108  0.265419  0.792049\n",
      "2017-10-10  0.280616  0.719324  0.556846  0.194033\n",
      "2017-10-11  0.538966  0.044244  0.572865  0.081814\n",
      "2017-10-12  0.560581  0.893978  0.861914  0.077088\n",
      "2017-10-13  0.850714  0.729712  0.003048  0.308228\n",
      "2017-10-14  0.051035  0.708464  0.715050  0.705602\n",
      "   0  1   2   3\n",
      "0  0  1   2   3\n",
      "1  4  5   6   7\n",
      "2  8  9  10  11\n"
     ]
    }
   ],
   "source": [
    "import numpy as np\n",
    "import pandas as pd\n",
    "s = pd.Series([1,3,4,np.nan,44,1])\n",
    "print(s)\n",
    "dates = pd.date_range('20171009',periods=6)\n",
    "print(dates)\n",
    "df = pd.DataFrame(np.random.rand(6,4),index = dates,columns=['a','b','c','d'])\n",
    "print(df)\n",
    "df1 = pd.DataFrame(np.arange(12).reshape(3,4))\n",
    "print(df1)"
   ]
  },
  {
   "cell_type": "code",
   "execution_count": 16,
   "metadata": {},
   "outputs": [
    {
     "name": "stdout",
     "output_type": "stream",
     "text": [
      "     A          B    C  D      E    F\n",
      "0  1.0 2013-01-02  1.0  3   test  foo\n",
      "1  1.0 2013-01-02  1.0  3  train  foo\n",
      "2  1.0 2013-01-02  1.0  3   test  foo\n",
      "3  1.0 2013-01-02  1.0  3  train  foo\n",
      "A           float64\n",
      "B    datetime64[ns]\n",
      "C           float32\n",
      "D             int32\n",
      "E          category\n",
      "F            object\n",
      "dtype: object\n",
      "Int64Index([0, 1, 2, 3], dtype='int64')\n",
      "Index(['A', 'B', 'C', 'D', 'E', 'F'], dtype='object')\n",
      "[[1.0 Timestamp('2013-01-02 00:00:00') 1.0 3 'test' 'foo']\n",
      " [1.0 Timestamp('2013-01-02 00:00:00') 1.0 3 'train' 'foo']\n",
      " [1.0 Timestamp('2013-01-02 00:00:00') 1.0 3 'test' 'foo']\n",
      " [1.0 Timestamp('2013-01-02 00:00:00') 1.0 3 'train' 'foo']]\n",
      "         A    C    D\n",
      "count  4.0  4.0  4.0\n",
      "mean   1.0  1.0  3.0\n",
      "std    0.0  0.0  0.0\n",
      "min    1.0  1.0  3.0\n",
      "25%    1.0  1.0  3.0\n",
      "50%    1.0  1.0  3.0\n",
      "75%    1.0  1.0  3.0\n",
      "max    1.0  1.0  3.0\n",
      "                     0                    1                    2  \\\n",
      "A                    1                    1                    1   \n",
      "B  2013-01-02 00:00:00  2013-01-02 00:00:00  2013-01-02 00:00:00   \n",
      "C                    1                    1                    1   \n",
      "D                    3                    3                    3   \n",
      "E                 test                train                 test   \n",
      "F                  foo                  foo                  foo   \n",
      "\n",
      "                     3  \n",
      "A                    1  \n",
      "B  2013-01-02 00:00:00  \n",
      "C                    1  \n",
      "D                    3  \n",
      "E                train  \n",
      "F                  foo  \n",
      "     F      E  D    C          B    A\n",
      "0  foo   test  3  1.0 2013-01-02  1.0\n",
      "1  foo  train  3  1.0 2013-01-02  1.0\n",
      "2  foo   test  3  1.0 2013-01-02  1.0\n",
      "3  foo  train  3  1.0 2013-01-02  1.0\n",
      "     A          B    C  D      E    F\n",
      "0  1.0 2013-01-02  1.0  3   test  foo\n",
      "1  1.0 2013-01-02  1.0  3  train  foo\n",
      "2  1.0 2013-01-02  1.0  3   test  foo\n",
      "3  1.0 2013-01-02  1.0  3  train  foo\n"
     ]
    }
   ],
   "source": [
    "df2 = pd.DataFrame({'A' : 1.,\n",
    "                    'B' : pd.Timestamp('20130102'),\n",
    "                    'C' : pd.Series(1,index=list(range(4)),dtype='float32'),\n",
    "                    'D' : np.array([3] * 4,dtype='int32'),\n",
    "                    'E' : pd.Categorical([\"test\",\"train\",\"test\",\"train\"]),\n",
    "                    'F' : 'foo'})\n",
    "print(df2)\n",
    "print(df2.dtypes)\n",
    "print(df2.index)\n",
    "print(df2.columns)\n",
    "print(df2.values)\n",
    "print(df2.describe())\n",
    "print(df2.T)\n",
    "print(df2.sort_index(axis=1,ascending=False))\n",
    "print(df2.sort_values(by='B'))"
   ]
  },
  {
   "cell_type": "code",
   "execution_count": 18,
   "metadata": {},
   "outputs": [
    {
     "name": "stdout",
     "output_type": "stream",
     "text": [
      "             A   B   C   D\n",
      "2017-10-10   0   1   2   3\n",
      "2017-10-11   4   5   6   7\n",
      "2017-10-12   8   9  10  11\n",
      "2017-10-13  12  13  14  15\n",
      "2017-10-14  16  17  18  19\n",
      "2017-10-15  20  21  22  23\n",
      "普通的筛选方式\n",
      "2017-10-10     0\n",
      "2017-10-11     4\n",
      "2017-10-12     8\n",
      "2017-10-13    12\n",
      "2017-10-14    16\n",
      "2017-10-15    20\n",
      "Freq: D, Name: A, dtype: int32 2017-10-10     0\n",
      "2017-10-11     4\n",
      "2017-10-12     8\n",
      "2017-10-13    12\n",
      "2017-10-14    16\n",
      "2017-10-15    20\n",
      "Freq: D, Name: A, dtype: int32\n",
      "            A  B   C   D\n",
      "2017-10-10  0  1   2   3\n",
      "2017-10-11  4  5   6   7\n",
      "2017-10-12  8  9  10  11             A  B   C   D\n",
      "2017-10-10  0  1   2   3\n",
      "2017-10-11  4  5   6   7\n",
      "2017-10-12  8  9  10  11\n",
      "基于loc的筛选\n",
      "A    0\n",
      "B    1\n",
      "C    2\n",
      "D    3\n",
      "Name: 2017-10-10 00:00:00, dtype: int32\n",
      "             A   C\n",
      "2017-10-10   0   2\n",
      "2017-10-11   4   6\n",
      "2017-10-12   8  10\n",
      "2017-10-13  12  14\n",
      "2017-10-14  16  18\n",
      "2017-10-15  20  22\n",
      "A    0\n",
      "C    2\n",
      "Name: 2017-10-10 00:00:00, dtype: int32\n",
      "基于iloc的筛选\n",
      "13\n",
      "             B   C\n",
      "2017-10-13  13  14\n",
      "2017-10-14  17  18\n",
      "             B   C\n",
      "2017-10-11   5   6\n",
      "2017-10-13  13  14\n",
      "2017-10-15  21  22\n",
      "基于条件筛选\n",
      "             A   B   C   D\n",
      "2017-10-12   8   9  10  11\n",
      "2017-10-13  12  13  14  15\n",
      "2017-10-14  16  17  18  19\n",
      "2017-10-15  20  21  22  23\n"
     ]
    }
   ],
   "source": [
    "import numpy as np\n",
    "import pandas as pd\n",
    "\n",
    "dates = pd.date_range('20171010', periods=6)\n",
    "df = pd.DataFrame(np.arange(24).reshape((6,4)), index = dates, columns=['A','B','C','D'])\n",
    "print(df)\n",
    "#普通的筛选方式\n",
    "print(\"普通的筛选方式\")\n",
    "print(df['A'],df.A)\n",
    "print(df[0:3],df['20171010':'20171012'])\n",
    "#基于loc的筛选\n",
    "print(\"基于loc的筛选\")\n",
    "print(df.loc['20171010'])\n",
    "print(df.loc[:,['A','C']])\n",
    "print(df.loc['20171010',['A','C']])\n",
    "#基于iloc的筛选\n",
    "print(\"基于iloc的筛选\")\n",
    "print(df.iloc[3,1])\n",
    "print(df.iloc[3:5,1:3])\n",
    "print(df.iloc[[1,3,5,],1:3])\n",
    "#基于条件筛选\n",
    "print(\"基于条件筛选\")\n",
    "print(df[df.B>8])"
   ]
  },
  {
   "cell_type": "code",
   "execution_count": 26,
   "metadata": {},
   "outputs": [
    {
     "name": "stdout",
     "output_type": "stream",
     "text": [
      "             A   B   C   D\n",
      "2017-10-10   0   1   2   3\n",
      "2017-10-11   4   5   6   7\n",
      "2017-10-12   8   9  10  11\n",
      "2017-10-13  12  13  14  15\n",
      "2017-10-14  16  17  18  19\n",
      "2017-10-15  20  21  22  23\n",
      "             A   B     C   D\n",
      "2017-10-10   0   1     2   3\n",
      "2017-10-11   4   5     6   7\n",
      "2017-10-12   8   9  1111  11\n",
      "2017-10-13  12  13    14  15\n",
      "2017-10-14  16  17    18  19\n",
      "2017-10-15  20  21    22  23\n",
      "             A   B     C   D\n",
      "2017-10-10   0   1     2   3\n",
      "2017-10-11   4   5     6   7\n",
      "2017-10-12   8   9  1111  11\n",
      "2017-10-13  12  13  2222  15\n",
      "2017-10-14  16  17    18  19\n",
      "2017-10-15  20  21    22  23\n",
      "             A  B     C   D\n",
      "2017-10-10   0  1     2   3\n",
      "2017-10-11   4  5     6   7\n",
      "2017-10-12   8  0  1111  11\n",
      "2017-10-13  12  0  2222  15\n",
      "2017-10-14  16  0    18  19\n",
      "2017-10-15  20  0    22  23\n",
      "             A  B     C   D  F\n",
      "2017-10-10   0  1     2   3  0\n",
      "2017-10-11   4  5     6   7  0\n",
      "2017-10-12   8  0  1111  11  0\n",
      "2017-10-13  12  0  2222  15  0\n",
      "2017-10-14  16  0    18  19  0\n",
      "2017-10-15  20  0    22  23  0\n",
      "             A  B     C   D  F  G\n",
      "2017-10-10   0  1     2   3  0  1\n",
      "2017-10-11   4  5     6   7  0  2\n",
      "2017-10-12   8  0  1111  11  0  3\n",
      "2017-10-13  12  0  2222  15  0  4\n",
      "2017-10-14  16  0    18  19  0  5\n",
      "2017-10-15  20  0    22  23  0  6\n"
     ]
    }
   ],
   "source": [
    "import numpy as np\n",
    "import pandas as pd\n",
    "\n",
    "dates = pd.date_range('20171010',periods=6)\n",
    "df = pd.DataFrame(np.arange(24).reshape((6,4)), index = dates, columns=['A','B','C','D'])\n",
    "print(df)\n",
    "df.iloc[2,2] = 1111\n",
    "print(df)\n",
    "df.loc['20171013','C'] = 2222\n",
    "print(df)\n",
    "df.B[df.A>4] = 0\n",
    "print(df)\n",
    "df['F'] = 0\n",
    "print(df)\n",
    "df['G'] = pd.Series([1,2,3,4,5,6],index=pd.date_range('20171010',periods=6))\n",
    "print(df)"
   ]
  },
  {
   "cell_type": "code",
   "execution_count": 9,
   "metadata": {},
   "outputs": [
    {
     "name": "stdout",
     "output_type": "stream",
     "text": [
      "             A     B     C   D\n",
      "2017-10-10   0   NaN   2.0   3\n",
      "2017-10-11   4   5.0   NaN   7\n",
      "2017-10-12   8   9.0  10.0  11\n",
      "2017-10-13  12  13.0  14.0  15\n",
      "2017-10-14  16  17.0  18.0  19\n",
      "2017-10-15  20  21.0  22.0  23\n",
      "             A     B     C   D\n",
      "2017-10-12   8   9.0  10.0  11\n",
      "2017-10-13  12  13.0  14.0  15\n",
      "2017-10-14  16  17.0  18.0  19\n",
      "2017-10-15  20  21.0  22.0  23\n",
      "             A       B       C   D\n",
      "2017-10-10   0  1111.0     2.0   3\n",
      "2017-10-11   4     5.0  1111.0   7\n",
      "2017-10-12   8     9.0    10.0  11\n",
      "2017-10-13  12    13.0    14.0  15\n",
      "2017-10-14  16    17.0    18.0  19\n",
      "2017-10-15  20    21.0    22.0  23\n",
      "                A      B      C      D\n",
      "2017-10-10  False   True  False  False\n",
      "2017-10-11  False  False   True  False\n",
      "2017-10-12  False  False  False  False\n",
      "2017-10-13  False  False  False  False\n",
      "2017-10-14  False  False  False  False\n",
      "2017-10-15  False  False  False  False\n",
      "True\n"
     ]
    }
   ],
   "source": [
    "import numpy as np\n",
    "import pandas as pd\n",
    "\n",
    "dates = pd.date_range('20171010',periods=6)\n",
    "df = pd.DataFrame(np.arange(24).reshape((6,4)),index=dates,columns=['A','B','C','D'])\n",
    "df.iloc[0,1]=np.nan\n",
    "df.iloc[1,2]=np.nan\n",
    "print(df)\n",
    "print(df.dropna(axis=0,how='any'))\n",
    "print(df.fillna(value=1111))\n",
    "print(df.isnull())\n",
    "print(np.any(df.isnull())==True)"
   ]
  },
  {
   "cell_type": "code",
   "execution_count": 11,
   "metadata": {},
   "outputs": [
    {
     "name": "stdout",
     "output_type": "stream",
     "text": [
      "    Student ID  name   age  gender\n",
      "0         1100  Kelly   22  Female\n",
      "1         1101    Clo   21  Female\n",
      "2         1102  Tilly   22  Female\n",
      "3         1103   Tony   24    Male\n",
      "4         1104  David   20    Male\n",
      "5         1105  Catty   22  Female\n",
      "6         1106      M    3  Female\n",
      "7         1107      N   43    Male\n",
      "8         1108      A   13    Male\n",
      "9         1109      S   12    Male\n",
      "10        1110  David   33    Male\n",
      "11        1111     Dw    3  Female\n",
      "12        1112      Q   23    Male\n",
      "13        1113      W   21  Female\n"
     ]
    }
   ],
   "source": [
    "import pandas as pd\n",
    "data = pd.read_csv('student.csv')\n",
    "print(data)\n",
    "data.to_pickle('student.pickle')"
   ]
  },
  {
   "cell_type": "code",
   "execution_count": 6,
   "metadata": {},
   "outputs": [
    {
     "name": "stdout",
     "output_type": "stream",
     "text": [
      "     A    B    C    D\n",
      "0  0.0  0.0  0.0  0.0\n",
      "1  0.0  0.0  0.0  0.0\n",
      "2  0.0  0.0  0.0  0.0\n",
      "     A    B    C    D\n",
      "0  1.0  1.0  1.0  1.0\n",
      "1  1.0  1.0  1.0  1.0\n",
      "2  1.0  1.0  1.0  1.0\n",
      "     A    B    C    D\n",
      "0  2.0  2.0  2.0  2.0\n",
      "1  2.0  2.0  2.0  2.0\n",
      "2  2.0  2.0  2.0  2.0\n",
      "     A    B    C    D\n",
      "0  0.0  0.0  0.0  0.0\n",
      "1  0.0  0.0  0.0  0.0\n",
      "2  0.0  0.0  0.0  0.0\n",
      "3  1.0  1.0  1.0  1.0\n",
      "4  1.0  1.0  1.0  1.0\n",
      "5  1.0  1.0  1.0  1.0\n",
      "6  2.0  2.0  2.0  2.0\n",
      "7  2.0  2.0  2.0  2.0\n",
      "8  2.0  2.0  2.0  2.0\n",
      "     A    B    C    D\n",
      "1  0.0  0.0  0.0  0.0\n",
      "2  0.0  0.0  0.0  0.0\n",
      "3  0.0  0.0  0.0  0.0\n",
      "     B    C    D    E\n",
      "2  1.0  1.0  1.0  1.0\n",
      "3  1.0  1.0  1.0  1.0\n",
      "4  1.0  1.0  1.0  1.0\n",
      "     B    C    D\n",
      "0  0.0  0.0  0.0\n",
      "1  0.0  0.0  0.0\n",
      "2  0.0  0.0  0.0\n",
      "3  1.0  1.0  1.0\n",
      "4  1.0  1.0  1.0\n",
      "5  1.0  1.0  1.0\n",
      "     A    B    C    D\n",
      "1  0.0  0.0  0.0  0.0\n",
      "2  0.0  0.0  0.0  0.0\n",
      "3  0.0  0.0  0.0  0.0\n",
      "     B    C    D    E\n",
      "2  1.0  1.0  1.0  1.0\n",
      "3  1.0  1.0  1.0  1.0\n",
      "4  1.0  1.0  1.0  1.0\n",
      "     A    B    C    D    B    C    D    E\n",
      "1  0.0  0.0  0.0  0.0  NaN  NaN  NaN  NaN\n",
      "2  0.0  0.0  0.0  0.0  1.0  1.0  1.0  1.0\n",
      "3  0.0  0.0  0.0  0.0  1.0  1.0  1.0  1.0\n",
      "     A    B    C    D\n",
      "0  0.0  0.0  0.0  0.0\n",
      "1  0.0  0.0  0.0  0.0\n",
      "2  0.0  0.0  0.0  0.0\n",
      "     A    B    C    D\n",
      "0  0.0  0.0  0.0  0.0\n",
      "1  0.0  0.0  0.0  0.0\n",
      "2  0.0  0.0  0.0  0.0\n",
      "3  1.0  1.0  1.0  1.0\n",
      "4  1.0  1.0  1.0  1.0\n",
      "5  1.0  1.0  1.0  1.0\n",
      "6  1.0  1.0  1.0  1.0\n",
      "7  1.0  1.0  1.0  1.0\n",
      "8  1.0  1.0  1.0  1.0\n",
      "     A    B    C    D\n",
      "0  0.0  0.0  0.0  0.0\n",
      "1  0.0  0.0  0.0  0.0\n",
      "2  0.0  0.0  0.0  0.0\n",
      "3  1.0  2.0  3.0  4.0\n"
     ]
    }
   ],
   "source": [
    "import numpy as np\n",
    "import pandas as pd\n",
    "#concatenating\n",
    "df1 = pd.DataFrame(np.ones((3,4))*0, columns=['A','B','C','D'])\n",
    "df2 = pd.DataFrame(np.ones((3,4))*1, columns=['A','B','C','D'])\n",
    "df3 = pd.DataFrame(np.ones((3,4))*2, columns=['A','B','C','D'])\n",
    "print(df1)\n",
    "print(df2)\n",
    "print(df3)\n",
    "res = pd.concat([df1,df2,df3], axis=0, ignore_index=True)\n",
    "print(res)\n",
    "#join['inner','outer']\n",
    "df1 = pd.DataFrame(np.ones((3,4))*0, columns=['A','B','C','D'], index=[1,2,3])\n",
    "df2 = pd.DataFrame(np.ones((3,4))*1, columns=['B','C','D','E'], index=[2,3,4])\n",
    "print(df1)\n",
    "print(df2)\n",
    "res = pd.concat([df1,df2],join='inner', ignore_index=True)\n",
    "print(res)\n",
    "df1 = pd.DataFrame(np.ones((3,4))*0, columns=['A','B','C','D'], index=[1,2,3])\n",
    "df2 = pd.DataFrame(np.ones((3,4))*1, columns=['B','C','D','E'], index=[2,3,4])\n",
    "print(df1)\n",
    "print(df2)\n",
    "res = pd.concat([df1,df2],axis=1,join_axes=[df1.index])\n",
    "print(res)\n",
    "df1 = pd.DataFrame(np.ones((3,4))*0, columns=['A','B','C','D'])\n",
    "df2 = pd.DataFrame(np.ones((3,4))*1, columns=['A','B','C','D'])\n",
    "df3 = pd.DataFrame(np.ones((3,4))*1, columns=['A','B','C','D'])\n",
    "print(df1)\n",
    "res = df1.append([df2,df3], ignore_index=True)\n",
    "print(res)\n",
    "df1 = pd.DataFrame(np.ones((3,4))*0, columns=['A','B','C','D'])\n",
    "s1=pd.Series([1,2,3,4],index=['A','B','C','D'])\n",
    "res = df1.append(s1,ignore_index=True)\n",
    "print(res)"
   ]
  },
  {
   "cell_type": "code",
   "execution_count": 12,
   "metadata": {},
   "outputs": [
    {
     "name": "stdout",
     "output_type": "stream",
     "text": [
      "    A   B key\n",
      "0  A0  B0  K1\n",
      "1  A1  B1  K2\n",
      "2  A2  B2  K3\n",
      "3  A3  B3  K4\n",
      "    C   D key\n",
      "0  C0  D0  K1\n",
      "1  C1  D1  K2\n",
      "2  C2  D2  K3\n",
      "3  C3  D3  K4\n",
      "    A   B key   C   D\n",
      "0  A0  B0  K1  C0  D0\n",
      "1  A1  B1  K2  C1  D1\n",
      "2  A2  B2  K3  C2  D2\n",
      "3  A3  B3  K4  C3  D3\n"
     ]
    }
   ],
   "source": [
    "import pandas as pd\n",
    "\n",
    "left = pd.DataFrame({'key':['K1','K2','K3','K4'],\n",
    "                     'A':['A0','A1','A2','A3'],\n",
    "                     'B':['B0','B1','B2','B3']})\n",
    "right = pd.DataFrame({'key':['K1','K2','K3','K4'],\n",
    "                     'C':['C0','C1','C2','C3'],\n",
    "                     'D':['D0','D1','D2','D3']})\n",
    "print(left)\n",
    "print(right)\n",
    "res = pd.merge(left, right, on='key')\n",
    "print(res)"
   ]
  },
  {
   "cell_type": "code",
   "execution_count": 18,
   "metadata": {},
   "outputs": [
    {
     "name": "stdout",
     "output_type": "stream",
     "text": [
      "    A   B key1 key2\n",
      "0  A0  B0   K0   K0\n",
      "1  A1  B1   K0   K1\n",
      "2  A2  B2   K1   K0\n",
      "3  A3  B3   K2   K1\n",
      "    C   D key1 key2\n",
      "0  C0  D0   K0   K0\n",
      "1  C1  D1   K1   K0\n",
      "2  C2  D2   K1   K0\n",
      "3  C3  D3   K2   K0\n",
      "    A   B key1 key2   C   D\n",
      "0  A0  B0   K0   K0  C0  D0\n",
      "1  A2  B2   K1   K0  C1  D1\n",
      "2  A2  B2   K1   K0  C2  D2\n",
      "     A    B key1 key2    C    D\n",
      "0   A0   B0   K0   K0   C0   D0\n",
      "1   A1   B1   K0   K1  NaN  NaN\n",
      "2   A2   B2   K1   K0   C1   D1\n",
      "3   A2   B2   K1   K0   C2   D2\n",
      "4   A3   B3   K2   K1  NaN  NaN\n",
      "5  NaN  NaN   K2   K0   C3   D3\n",
      "    A   B key1 key2    C    D\n",
      "0  A0  B0   K0   K0   C0   D0\n",
      "1  A1  B1   K0   K1  NaN  NaN\n",
      "2  A2  B2   K1   K0   C1   D1\n",
      "3  A2  B2   K1   K0   C2   D2\n",
      "4  A3  B3   K2   K1  NaN  NaN\n",
      "     A    B key1 key2   C   D\n",
      "0   A0   B0   K0   K0  C0  D0\n",
      "1   A2   B2   K1   K0  C1  D1\n",
      "2   A2   B2   K1   K0  C2  D2\n",
      "3  NaN  NaN   K2   K0  C3  D3\n"
     ]
    }
   ],
   "source": [
    "import pandas as pd\n",
    "\n",
    "left = pd.DataFrame({'key1':['K0','K0','K1','K2'],\n",
    "                     'key2':['K0','K1','K0','K1'],\n",
    "                     'A':['A0','A1','A2','A3'],\n",
    "                     'B':['B0','B1','B2','B3']})\n",
    "right = pd.DataFrame({'key1':['K0','K1','K1','K2'],\n",
    "                     'key2':['K0','K0','K0','K0'],\n",
    "                     'C':['C0','C1','C2','C3'],\n",
    "                     'D':['D0','D1','D2','D3']})\n",
    "print(left)\n",
    "print(right)\n",
    "res = pd.merge(left, right, on=['key1','key2'],how='inner')\n",
    "print(res)\n",
    "res = pd.merge(left, right, on=['key1','key2'],how='outer')\n",
    "print(res)\n",
    "res = pd.merge(left, right, on=['key1','key2'],how='left')\n",
    "print(res)\n",
    "res = pd.merge(left, right, on=['key1','key2'],how='right')\n",
    "print(res)"
   ]
  },
  {
   "cell_type": "code",
   "execution_count": 22,
   "metadata": {},
   "outputs": [
    {
     "name": "stdout",
     "output_type": "stream",
     "text": [
      "   col1 col_left\n",
      "0     0        a\n",
      "1     1        b\n",
      "   col1  col_right\n",
      "0     1          2\n",
      "1     2          2\n",
      "2     2          2\n",
      "   col1 col_left  col_right      _merge\n",
      "0     0        a        NaN   left_only\n",
      "1     1        b        2.0        both\n",
      "2     2      NaN        2.0  right_only\n",
      "3     2      NaN        2.0  right_only\n",
      "   col1 col_left  col_right indicator_column\n",
      "0     0        a        NaN        left_only\n",
      "1     1        b        2.0             both\n",
      "2     2      NaN        2.0       right_only\n",
      "3     2      NaN        2.0       right_only\n"
     ]
    }
   ],
   "source": [
    "import pandas as pd\n",
    "\n",
    "df1 = pd.DataFrame({'col1':[0,1],'col_left':['a','b']})\n",
    "print(df1)\n",
    "df2 = pd.DataFrame({'col1':[1,2,2],'col_right':[2,2,2]})\n",
    "print(df2)\n",
    "res = pd.merge(df1,df2,on='col1',how='outer',indicator=True)\n",
    "print(res)\n",
    "res = pd.merge(df1,df2,on='col1',how='outer',indicator='indicator_column')\n",
    "print(res)"
   ]
  },
  {
   "cell_type": "code",
   "execution_count": 28,
   "metadata": {},
   "outputs": [
    {
     "name": "stdout",
     "output_type": "stream",
     "text": [
      "     A   B\n",
      "K0  A0  B0\n",
      "K1  A1  B1\n",
      "K2  A2  B2\n",
      "     C   D\n",
      "K0  C0  D0\n",
      "K2  C2  D2\n",
      "K3  C3  D3\n",
      "      A    B    C    D\n",
      "K0   A0   B0   C0   D0\n",
      "K1   A1   B1  NaN  NaN\n",
      "K2   A2   B2   C2   D2\n",
      "K3  NaN  NaN   C3   D3\n",
      "     A   B   C   D\n",
      "K0  A0  B0  C0  D0\n",
      "K2  A2  B2  C2  D2\n"
     ]
    }
   ],
   "source": [
    "import pandas as pd\n",
    "\n",
    "left = pd.DataFrame({'A':['A0','A1','A2'],\n",
    "                     'B':['B0','B1','B2']},\n",
    "                     index=['K0','K1','K2'])\n",
    "right = pd.DataFrame({'C':['C0','C2','C3'],\n",
    "                     'D':['D0','D2','D3']},\n",
    "                     index=['K0','K2','K3'])\n",
    "print(left)\n",
    "print(right)\n",
    "res = pd.merge(left,right,left_index=True,right_index=True,how='outer')\n",
    "print(res)\n",
    "res = pd.merge(left,right,left_index=True,right_index=True,how='inner')\n",
    "print(res)"
   ]
  },
  {
   "cell_type": "code",
   "execution_count": 30,
   "metadata": {},
   "outputs": [
    {
     "name": "stdout",
     "output_type": "stream",
     "text": [
      "   age_boy   k  age_girl\n",
      "0        1  K0         4\n",
      "1        1  K0         5\n"
     ]
    }
   ],
   "source": [
    "import pandas as pd\n",
    "\n",
    "boys = pd.DataFrame({'k':['K0','K1','K2'],'age':[1,2,3]})\n",
    "girls = pd.DataFrame({'k':['K0','K0','K3'],'age':[4,5,6]})\n",
    "res = pd.merge(boys,girls,on='k',suffixes=['_boy','_girl'],how='inner')\n",
    "print(res)"
   ]
  },
  {
   "cell_type": "code",
   "execution_count": 35,
   "metadata": {},
   "outputs": [
    {
     "data": {
      "image/png": "[encoded data removed]",
      "text/plain": [
       "<matplotlib.figure.Figure at 0x2714d407240>"
      ]
     },
     "metadata": {},
     "output_type": "display_data"
    }
   ],
   "source": [
    "import pandas as pd\n",
    "import numpy as np\n",
    "import matplotlib.pyplot as plt\n",
    "data = pd.Series(np.random.randn(1000),index=np.arange(1000))\n",
    "data = data.cumsum()\n",
    "data.plot()\n",
    "plt.show()"
   ]
  },
  {
   "cell_type": "code",
   "execution_count": 37,
   "metadata": {},
   "outputs": [
    {
     "data": {
      "image/png": "[encoded data removed]",
      "text/plain": [
       "<matplotlib.figure.Figure at 0x2714d41c7b8>"
      ]
     },
     "metadata": {},
     "output_type": "display_data"
    }
   ],
   "source": [
    "import pandas as pd\n",
    "import numpy as np\n",
    "import matplotlib.pyplot as plt\n",
    "data = pd.DataFrame(np.random.randn(1000,4),\n",
    "                index = np.arange(1000),\n",
    "                columns=list(\"ABCD\"))\n",
    "data=data.cumsum()\n",
    "data.plot()\n",
    "plt.show()"
   ]
  },
  {
   "cell_type": "code",
   "execution_count": 39,
   "metadata": {
    "scrolled": true
   },
   "outputs": [
    {
     "data": {
      "image/png": "[encoded data removed]",
      "text/plain": [
       "<matplotlib.figure.Figure at 0x2714d41c400>"
      ]
     },
     "metadata": {},
     "output_type": "display_data"
    },
    {
     "data": {
      "image/png": "[encoded data removed]",
      "text/plain": [
       "<matplotlib.figure.Figure at 0x2714d715860>"
      ]
     },
     "metadata": {},
     "output_type": "display_data"
    }
   ],
   "source": [
    "import pandas as pd\n",
    "import numpy as np\n",
    "import matplotlib.pyplot as plt\n",
    "data = pd.DataFrame(np.random.randn(1000,4),\n",
    "                index = np.arange(1000),\n",
    "                columns=list(\"ABCD\"))\n",
    "data=data.cumsum()\n",
    "ax = data.plot.scatter(x='A',y='B',color='DarkBlue',label='Class1')\n",
    "data.plot.scatter(x='A',y='C',color='DarkGreen',label='Class2',ax=ax)\n",
    "plt.show()"
   ]
  },
  {
   "cell_type": "code",
   "execution_count": 4,
   "metadata": {},
   "outputs": [
    {
     "data": {
      "image/png": "[encoded data removed]",
      "text/plain": [
       "<matplotlib.figure.Figure at 0x2634aa73278>"
      ]
     },
     "metadata": {},
     "output_type": "display_data"
    }
   ],
   "source": [
    "#数据可视化\n",
    "import tensorflow as tf\n",
    "import matplotlib.pyplot as plt\n",
    "import numpy as np\n",
    "\n",
    "def add_layer(inputs, in_size, out_size, activation_function=None):\n",
    "    Weights = tf.Variable(tf.random_normal([in_size,out_size]))\n",
    "    biases = tf.Variable(tf.zeros([1, out_size])) + 0.1 #biases初始值不为零\n",
    "    Wx_plus_b = tf.matmul(inputs, Weights) + biases\n",
    "    if activation_function is None:\n",
    "        outputs = Wx_plus_b\n",
    "    else:\n",
    "        outputs = activation_function(Wx_plus_b)\n",
    "    return outputs\n",
    "\n",
    "x_data = np.linspace(-1,1,300)[:,np.newaxis]\n",
    "noise = np.random.normal(0,0.05,x_data.shape).astype(np.float32)#添加噪点，尽量的让数据不那么完美，符合数据的特点\n",
    "y_data = np.square(x_data)-0.5+noise\n",
    "\n",
    "xs = tf.placeholder(tf.float32, [None, 1])\n",
    "ys = tf.placeholder(tf.float32, [None, 1])\n",
    "l1 = add_layer(xs, 1, 10, activation_function=tf.nn.relu)#输入层\n",
    "prediction = add_layer(l1, 10, 1, activation_function=None)\n",
    "\n",
    "loss = tf.reduce_mean(tf.reduce_sum(tf.square(ys - prediction),\n",
    "                     reduction_indices=[1]))\n",
    "train_step = tf.train.GradientDescentOptimizer(0.1).minimize(loss)\n",
    "\n",
    "init = tf.global_variables_initializer()\n",
    "sess = tf.Session()\n",
    "sess.run(init)\n",
    "\n",
    "fig = plt.figure()\n",
    "ax = fig.add_subplot(1,1,1)\n",
    "ax.scatter(x_data, y_data)\n",
    "plt.ion()\n",
    "plt.draw()\n",
    "for i in range(1000):\n",
    "    sess.run(train_step, feed_dict={xs:x_data,ys:y_data})\n",
    "    if i%50 ==0:\n",
    "        \n",
    "    # print(sess.run(loss,feed_dict={xs:x_data,ys:y_data}))\n",
    "        try:\n",
    "            ax.lines.remove(lines[0])\n",
    "        except Exception:\n",
    "            pass\n",
    "\n",
    "        prediction_value = sess.run(prediction, feed_dict={xs:x_data})\n",
    "        lines = ax.plot(x_data,prediction_value,'r-',lw=5)\n",
    "        plt.pause(0.1)"
   ]
  },
  {
   "cell_type": "code",
   "execution_count": null,
   "metadata": {
    "collapsed": true
   },
   "outputs": [],
   "source": []
  }
 ],
 "metadata": {
  "kernelspec": {
   "display_name": "Python 3",
   "language": "python",
   "name": "python3"
  },
  "language_info": {
   "codemirror_mode": {
    "name": "ipython",
    "version": 3
   },
   "file_extension": ".py",
   "mimetype": "text/x-python",
   "name": "python",
   "nbconvert_exporter": "python",
   "pygments_lexer": "ipython3",
   "version": "3.6.1"
  }
 },
 "nbformat": 4,
 "nbformat_minor": 2
}
